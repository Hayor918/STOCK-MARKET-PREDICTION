{
 "cells": [
  {
   "cell_type": "markdown",
   "id": "8d0750e7",
   "metadata": {},
   "source": [
    "## IMPORT DATA INTO PYTHON"
   ]
  },
  {
   "cell_type": "code",
   "execution_count": 2,
   "id": "13588556",
   "metadata": {},
   "outputs": [],
   "source": [
    "import pandas as pd"
   ]
  },
  {
   "cell_type": "code",
   "execution_count": 3,
   "id": "6e8cbc3c",
   "metadata": {},
   "outputs": [],
   "source": [
    "Stock_Market = pd.read_csv(\"symbols_valid_meta (1).csv\")"
   ]
  },
  {
   "cell_type": "code",
   "execution_count": 4,
   "id": "16746277",
   "metadata": {},
   "outputs": [
    {
     "data": {
      "text/html": [
       "<div>\n",
       "<style scoped>\n",
       "    .dataframe tbody tr th:only-of-type {\n",
       "        vertical-align: middle;\n",
       "    }\n",
       "\n",
       "    .dataframe tbody tr th {\n",
       "        vertical-align: top;\n",
       "    }\n",
       "\n",
       "    .dataframe thead th {\n",
       "        text-align: right;\n",
       "    }\n",
       "</style>\n",
       "<table border=\"1\" class=\"dataframe\">\n",
       "  <thead>\n",
       "    <tr style=\"text-align: right;\">\n",
       "      <th></th>\n",
       "      <th>Nasdaq Traded</th>\n",
       "      <th>Symbol</th>\n",
       "      <th>Security Name</th>\n",
       "      <th>Listing Exchange</th>\n",
       "      <th>Market Category</th>\n",
       "      <th>ETF</th>\n",
       "      <th>Round Lot Size</th>\n",
       "      <th>Test Issue</th>\n",
       "      <th>Financial Status</th>\n",
       "      <th>CQS Symbol</th>\n",
       "      <th>NASDAQ Symbol</th>\n",
       "      <th>NextShares</th>\n",
       "    </tr>\n",
       "  </thead>\n",
       "  <tbody>\n",
       "    <tr>\n",
       "      <th>0</th>\n",
       "      <td>Y</td>\n",
       "      <td>A</td>\n",
       "      <td>Agilent Technologies, Inc. Common Stock</td>\n",
       "      <td>N</td>\n",
       "      <td></td>\n",
       "      <td>N</td>\n",
       "      <td>100.0</td>\n",
       "      <td>N</td>\n",
       "      <td>NaN</td>\n",
       "      <td>A</td>\n",
       "      <td>A</td>\n",
       "      <td>N</td>\n",
       "    </tr>\n",
       "    <tr>\n",
       "      <th>1</th>\n",
       "      <td>Y</td>\n",
       "      <td>AA</td>\n",
       "      <td>Alcoa Corporation Common Stock</td>\n",
       "      <td>N</td>\n",
       "      <td></td>\n",
       "      <td>N</td>\n",
       "      <td>100.0</td>\n",
       "      <td>N</td>\n",
       "      <td>NaN</td>\n",
       "      <td>AA</td>\n",
       "      <td>AA</td>\n",
       "      <td>N</td>\n",
       "    </tr>\n",
       "    <tr>\n",
       "      <th>2</th>\n",
       "      <td>Y</td>\n",
       "      <td>AAAU</td>\n",
       "      <td>Perth Mint Physical Gold ETF</td>\n",
       "      <td>P</td>\n",
       "      <td></td>\n",
       "      <td>Y</td>\n",
       "      <td>100.0</td>\n",
       "      <td>N</td>\n",
       "      <td>NaN</td>\n",
       "      <td>AAAU</td>\n",
       "      <td>AAAU</td>\n",
       "      <td>N</td>\n",
       "    </tr>\n",
       "    <tr>\n",
       "      <th>3</th>\n",
       "      <td>Y</td>\n",
       "      <td>AACG</td>\n",
       "      <td>ATA Creativity Global - American Depositary Sh...</td>\n",
       "      <td>Q</td>\n",
       "      <td>G</td>\n",
       "      <td>N</td>\n",
       "      <td>100.0</td>\n",
       "      <td>N</td>\n",
       "      <td>N</td>\n",
       "      <td>NaN</td>\n",
       "      <td>AACG</td>\n",
       "      <td>N</td>\n",
       "    </tr>\n",
       "    <tr>\n",
       "      <th>4</th>\n",
       "      <td>Y</td>\n",
       "      <td>AADR</td>\n",
       "      <td>AdvisorShares Dorsey Wright ADR ETF</td>\n",
       "      <td>P</td>\n",
       "      <td></td>\n",
       "      <td>Y</td>\n",
       "      <td>100.0</td>\n",
       "      <td>N</td>\n",
       "      <td>NaN</td>\n",
       "      <td>AADR</td>\n",
       "      <td>AADR</td>\n",
       "      <td>N</td>\n",
       "    </tr>\n",
       "    <tr>\n",
       "      <th>...</th>\n",
       "      <td>...</td>\n",
       "      <td>...</td>\n",
       "      <td>...</td>\n",
       "      <td>...</td>\n",
       "      <td>...</td>\n",
       "      <td>...</td>\n",
       "      <td>...</td>\n",
       "      <td>...</td>\n",
       "      <td>...</td>\n",
       "      <td>...</td>\n",
       "      <td>...</td>\n",
       "      <td>...</td>\n",
       "    </tr>\n",
       "    <tr>\n",
       "      <th>8044</th>\n",
       "      <td>Y</td>\n",
       "      <td>ZUO</td>\n",
       "      <td>Zuora, Inc. Class A Common Stock</td>\n",
       "      <td>N</td>\n",
       "      <td></td>\n",
       "      <td>N</td>\n",
       "      <td>100.0</td>\n",
       "      <td>N</td>\n",
       "      <td>NaN</td>\n",
       "      <td>ZUO</td>\n",
       "      <td>ZUO</td>\n",
       "      <td>N</td>\n",
       "    </tr>\n",
       "    <tr>\n",
       "      <th>8045</th>\n",
       "      <td>Y</td>\n",
       "      <td>ZVO</td>\n",
       "      <td>Zovio Inc. - Common Stock</td>\n",
       "      <td>Q</td>\n",
       "      <td>Q</td>\n",
       "      <td>N</td>\n",
       "      <td>100.0</td>\n",
       "      <td>N</td>\n",
       "      <td>N</td>\n",
       "      <td>NaN</td>\n",
       "      <td>ZVO</td>\n",
       "      <td>N</td>\n",
       "    </tr>\n",
       "    <tr>\n",
       "      <th>8046</th>\n",
       "      <td>Y</td>\n",
       "      <td>ZYME</td>\n",
       "      <td>Zymeworks Inc. Common Shares</td>\n",
       "      <td>N</td>\n",
       "      <td></td>\n",
       "      <td>N</td>\n",
       "      <td>100.0</td>\n",
       "      <td>N</td>\n",
       "      <td>NaN</td>\n",
       "      <td>ZYME</td>\n",
       "      <td>ZYME</td>\n",
       "      <td>N</td>\n",
       "    </tr>\n",
       "    <tr>\n",
       "      <th>8047</th>\n",
       "      <td>Y</td>\n",
       "      <td>ZYNE</td>\n",
       "      <td>Zynerba Pharmaceuticals, Inc. - Common Stock</td>\n",
       "      <td>Q</td>\n",
       "      <td>G</td>\n",
       "      <td>N</td>\n",
       "      <td>100.0</td>\n",
       "      <td>N</td>\n",
       "      <td>N</td>\n",
       "      <td>NaN</td>\n",
       "      <td>ZYNE</td>\n",
       "      <td>N</td>\n",
       "    </tr>\n",
       "    <tr>\n",
       "      <th>8048</th>\n",
       "      <td>Y</td>\n",
       "      <td>ZYXI</td>\n",
       "      <td>Zynex, Inc. - Common Stock</td>\n",
       "      <td>Q</td>\n",
       "      <td>S</td>\n",
       "      <td>N</td>\n",
       "      <td>100.0</td>\n",
       "      <td>N</td>\n",
       "      <td>N</td>\n",
       "      <td>NaN</td>\n",
       "      <td>ZYXI</td>\n",
       "      <td>N</td>\n",
       "    </tr>\n",
       "  </tbody>\n",
       "</table>\n",
       "<p>8049 rows × 12 columns</p>\n",
       "</div>"
      ],
      "text/plain": [
       "     Nasdaq Traded Symbol                                      Security Name  \\\n",
       "0                Y      A            Agilent Technologies, Inc. Common Stock   \n",
       "1                Y     AA                    Alcoa Corporation Common Stock    \n",
       "2                Y   AAAU                       Perth Mint Physical Gold ETF   \n",
       "3                Y   AACG  ATA Creativity Global - American Depositary Sh...   \n",
       "4                Y   AADR                AdvisorShares Dorsey Wright ADR ETF   \n",
       "...            ...    ...                                                ...   \n",
       "8044             Y    ZUO                   Zuora, Inc. Class A Common Stock   \n",
       "8045             Y    ZVO                          Zovio Inc. - Common Stock   \n",
       "8046             Y   ZYME                       Zymeworks Inc. Common Shares   \n",
       "8047             Y   ZYNE       Zynerba Pharmaceuticals, Inc. - Common Stock   \n",
       "8048             Y   ZYXI                         Zynex, Inc. - Common Stock   \n",
       "\n",
       "     Listing Exchange Market Category ETF  Round Lot Size Test Issue  \\\n",
       "0                   N                   N           100.0          N   \n",
       "1                   N                   N           100.0          N   \n",
       "2                   P                   Y           100.0          N   \n",
       "3                   Q               G   N           100.0          N   \n",
       "4                   P                   Y           100.0          N   \n",
       "...               ...             ...  ..             ...        ...   \n",
       "8044                N                   N           100.0          N   \n",
       "8045                Q               Q   N           100.0          N   \n",
       "8046                N                   N           100.0          N   \n",
       "8047                Q               G   N           100.0          N   \n",
       "8048                Q               S   N           100.0          N   \n",
       "\n",
       "     Financial Status CQS Symbol NASDAQ Symbol NextShares  \n",
       "0                 NaN          A             A          N  \n",
       "1                 NaN         AA            AA          N  \n",
       "2                 NaN       AAAU          AAAU          N  \n",
       "3                   N        NaN          AACG          N  \n",
       "4                 NaN       AADR          AADR          N  \n",
       "...               ...        ...           ...        ...  \n",
       "8044              NaN        ZUO           ZUO          N  \n",
       "8045                N        NaN           ZVO          N  \n",
       "8046              NaN       ZYME          ZYME          N  \n",
       "8047                N        NaN          ZYNE          N  \n",
       "8048                N        NaN          ZYXI          N  \n",
       "\n",
       "[8049 rows x 12 columns]"
      ]
     },
     "execution_count": 4,
     "metadata": {},
     "output_type": "execute_result"
    }
   ],
   "source": [
    "Stock_Market"
   ]
  },
  {
   "cell_type": "code",
   "execution_count": 5,
   "id": "6ce4fb3d",
   "metadata": {
    "scrolled": true
   },
   "outputs": [
    {
     "data": {
      "text/plain": [
       "array(['N', 'Y'], dtype=object)"
      ]
     },
     "execution_count": 5,
     "metadata": {},
     "output_type": "execute_result"
    }
   ],
   "source": [
    "Stock_Market.NextShares.unique()"
   ]
  },
  {
   "cell_type": "code",
   "execution_count": 1,
   "id": "51783025",
   "metadata": {},
   "outputs": [],
   "source": [
    "## CHECK FOR NULL VALUES"
   ]
  },
  {
   "cell_type": "code",
   "execution_count": 6,
   "id": "1ee0bf4e",
   "metadata": {},
   "outputs": [
    {
     "data": {
      "text/plain": [
       "Nasdaq Traded          0\n",
       "Symbol                 0\n",
       "Security Name          0\n",
       "Listing Exchange       0\n",
       "Market Category        0\n",
       "ETF                    0\n",
       "Round Lot Size         0\n",
       "Test Issue             0\n",
       "Financial Status    4666\n",
       "CQS Symbol          3383\n",
       "NASDAQ Symbol          0\n",
       "NextShares             0\n",
       "dtype: int64"
      ]
     },
     "execution_count": 6,
     "metadata": {},
     "output_type": "execute_result"
    }
   ],
   "source": [
    "Stock_Market.isnull().sum()"
   ]
  },
  {
   "cell_type": "code",
   "execution_count": 2,
   "id": "58b887c4",
   "metadata": {},
   "outputs": [],
   "source": [
    "## FILL NULL VALUES WITH 0"
   ]
  },
  {
   "cell_type": "code",
   "execution_count": 7,
   "id": "2add3132",
   "metadata": {},
   "outputs": [
    {
     "data": {
      "text/html": [
       "<div>\n",
       "<style scoped>\n",
       "    .dataframe tbody tr th:only-of-type {\n",
       "        vertical-align: middle;\n",
       "    }\n",
       "\n",
       "    .dataframe tbody tr th {\n",
       "        vertical-align: top;\n",
       "    }\n",
       "\n",
       "    .dataframe thead th {\n",
       "        text-align: right;\n",
       "    }\n",
       "</style>\n",
       "<table border=\"1\" class=\"dataframe\">\n",
       "  <thead>\n",
       "    <tr style=\"text-align: right;\">\n",
       "      <th></th>\n",
       "      <th>Nasdaq Traded</th>\n",
       "      <th>Symbol</th>\n",
       "      <th>Security Name</th>\n",
       "      <th>Listing Exchange</th>\n",
       "      <th>Market Category</th>\n",
       "      <th>ETF</th>\n",
       "      <th>Round Lot Size</th>\n",
       "      <th>Test Issue</th>\n",
       "      <th>Financial Status</th>\n",
       "      <th>CQS Symbol</th>\n",
       "      <th>NASDAQ Symbol</th>\n",
       "      <th>NextShares</th>\n",
       "    </tr>\n",
       "  </thead>\n",
       "  <tbody>\n",
       "    <tr>\n",
       "      <th>0</th>\n",
       "      <td>Y</td>\n",
       "      <td>A</td>\n",
       "      <td>Agilent Technologies, Inc. Common Stock</td>\n",
       "      <td>N</td>\n",
       "      <td></td>\n",
       "      <td>N</td>\n",
       "      <td>100.0</td>\n",
       "      <td>N</td>\n",
       "      <td>0</td>\n",
       "      <td>A</td>\n",
       "      <td>A</td>\n",
       "      <td>N</td>\n",
       "    </tr>\n",
       "    <tr>\n",
       "      <th>1</th>\n",
       "      <td>Y</td>\n",
       "      <td>AA</td>\n",
       "      <td>Alcoa Corporation Common Stock</td>\n",
       "      <td>N</td>\n",
       "      <td></td>\n",
       "      <td>N</td>\n",
       "      <td>100.0</td>\n",
       "      <td>N</td>\n",
       "      <td>0</td>\n",
       "      <td>AA</td>\n",
       "      <td>AA</td>\n",
       "      <td>N</td>\n",
       "    </tr>\n",
       "    <tr>\n",
       "      <th>2</th>\n",
       "      <td>Y</td>\n",
       "      <td>AAAU</td>\n",
       "      <td>Perth Mint Physical Gold ETF</td>\n",
       "      <td>P</td>\n",
       "      <td></td>\n",
       "      <td>Y</td>\n",
       "      <td>100.0</td>\n",
       "      <td>N</td>\n",
       "      <td>0</td>\n",
       "      <td>AAAU</td>\n",
       "      <td>AAAU</td>\n",
       "      <td>N</td>\n",
       "    </tr>\n",
       "    <tr>\n",
       "      <th>3</th>\n",
       "      <td>Y</td>\n",
       "      <td>AACG</td>\n",
       "      <td>ATA Creativity Global - American Depositary Sh...</td>\n",
       "      <td>Q</td>\n",
       "      <td>G</td>\n",
       "      <td>N</td>\n",
       "      <td>100.0</td>\n",
       "      <td>N</td>\n",
       "      <td>N</td>\n",
       "      <td>0</td>\n",
       "      <td>AACG</td>\n",
       "      <td>N</td>\n",
       "    </tr>\n",
       "    <tr>\n",
       "      <th>4</th>\n",
       "      <td>Y</td>\n",
       "      <td>AADR</td>\n",
       "      <td>AdvisorShares Dorsey Wright ADR ETF</td>\n",
       "      <td>P</td>\n",
       "      <td></td>\n",
       "      <td>Y</td>\n",
       "      <td>100.0</td>\n",
       "      <td>N</td>\n",
       "      <td>0</td>\n",
       "      <td>AADR</td>\n",
       "      <td>AADR</td>\n",
       "      <td>N</td>\n",
       "    </tr>\n",
       "    <tr>\n",
       "      <th>...</th>\n",
       "      <td>...</td>\n",
       "      <td>...</td>\n",
       "      <td>...</td>\n",
       "      <td>...</td>\n",
       "      <td>...</td>\n",
       "      <td>...</td>\n",
       "      <td>...</td>\n",
       "      <td>...</td>\n",
       "      <td>...</td>\n",
       "      <td>...</td>\n",
       "      <td>...</td>\n",
       "      <td>...</td>\n",
       "    </tr>\n",
       "    <tr>\n",
       "      <th>8044</th>\n",
       "      <td>Y</td>\n",
       "      <td>ZUO</td>\n",
       "      <td>Zuora, Inc. Class A Common Stock</td>\n",
       "      <td>N</td>\n",
       "      <td></td>\n",
       "      <td>N</td>\n",
       "      <td>100.0</td>\n",
       "      <td>N</td>\n",
       "      <td>0</td>\n",
       "      <td>ZUO</td>\n",
       "      <td>ZUO</td>\n",
       "      <td>N</td>\n",
       "    </tr>\n",
       "    <tr>\n",
       "      <th>8045</th>\n",
       "      <td>Y</td>\n",
       "      <td>ZVO</td>\n",
       "      <td>Zovio Inc. - Common Stock</td>\n",
       "      <td>Q</td>\n",
       "      <td>Q</td>\n",
       "      <td>N</td>\n",
       "      <td>100.0</td>\n",
       "      <td>N</td>\n",
       "      <td>N</td>\n",
       "      <td>0</td>\n",
       "      <td>ZVO</td>\n",
       "      <td>N</td>\n",
       "    </tr>\n",
       "    <tr>\n",
       "      <th>8046</th>\n",
       "      <td>Y</td>\n",
       "      <td>ZYME</td>\n",
       "      <td>Zymeworks Inc. Common Shares</td>\n",
       "      <td>N</td>\n",
       "      <td></td>\n",
       "      <td>N</td>\n",
       "      <td>100.0</td>\n",
       "      <td>N</td>\n",
       "      <td>0</td>\n",
       "      <td>ZYME</td>\n",
       "      <td>ZYME</td>\n",
       "      <td>N</td>\n",
       "    </tr>\n",
       "    <tr>\n",
       "      <th>8047</th>\n",
       "      <td>Y</td>\n",
       "      <td>ZYNE</td>\n",
       "      <td>Zynerba Pharmaceuticals, Inc. - Common Stock</td>\n",
       "      <td>Q</td>\n",
       "      <td>G</td>\n",
       "      <td>N</td>\n",
       "      <td>100.0</td>\n",
       "      <td>N</td>\n",
       "      <td>N</td>\n",
       "      <td>0</td>\n",
       "      <td>ZYNE</td>\n",
       "      <td>N</td>\n",
       "    </tr>\n",
       "    <tr>\n",
       "      <th>8048</th>\n",
       "      <td>Y</td>\n",
       "      <td>ZYXI</td>\n",
       "      <td>Zynex, Inc. - Common Stock</td>\n",
       "      <td>Q</td>\n",
       "      <td>S</td>\n",
       "      <td>N</td>\n",
       "      <td>100.0</td>\n",
       "      <td>N</td>\n",
       "      <td>N</td>\n",
       "      <td>0</td>\n",
       "      <td>ZYXI</td>\n",
       "      <td>N</td>\n",
       "    </tr>\n",
       "  </tbody>\n",
       "</table>\n",
       "<p>8049 rows × 12 columns</p>\n",
       "</div>"
      ],
      "text/plain": [
       "     Nasdaq Traded Symbol                                      Security Name  \\\n",
       "0                Y      A            Agilent Technologies, Inc. Common Stock   \n",
       "1                Y     AA                    Alcoa Corporation Common Stock    \n",
       "2                Y   AAAU                       Perth Mint Physical Gold ETF   \n",
       "3                Y   AACG  ATA Creativity Global - American Depositary Sh...   \n",
       "4                Y   AADR                AdvisorShares Dorsey Wright ADR ETF   \n",
       "...            ...    ...                                                ...   \n",
       "8044             Y    ZUO                   Zuora, Inc. Class A Common Stock   \n",
       "8045             Y    ZVO                          Zovio Inc. - Common Stock   \n",
       "8046             Y   ZYME                       Zymeworks Inc. Common Shares   \n",
       "8047             Y   ZYNE       Zynerba Pharmaceuticals, Inc. - Common Stock   \n",
       "8048             Y   ZYXI                         Zynex, Inc. - Common Stock   \n",
       "\n",
       "     Listing Exchange Market Category ETF  Round Lot Size Test Issue  \\\n",
       "0                   N                   N           100.0          N   \n",
       "1                   N                   N           100.0          N   \n",
       "2                   P                   Y           100.0          N   \n",
       "3                   Q               G   N           100.0          N   \n",
       "4                   P                   Y           100.0          N   \n",
       "...               ...             ...  ..             ...        ...   \n",
       "8044                N                   N           100.0          N   \n",
       "8045                Q               Q   N           100.0          N   \n",
       "8046                N                   N           100.0          N   \n",
       "8047                Q               G   N           100.0          N   \n",
       "8048                Q               S   N           100.0          N   \n",
       "\n",
       "     Financial Status CQS Symbol NASDAQ Symbol NextShares  \n",
       "0                   0          A             A          N  \n",
       "1                   0         AA            AA          N  \n",
       "2                   0       AAAU          AAAU          N  \n",
       "3                   N          0          AACG          N  \n",
       "4                   0       AADR          AADR          N  \n",
       "...               ...        ...           ...        ...  \n",
       "8044                0        ZUO           ZUO          N  \n",
       "8045                N          0           ZVO          N  \n",
       "8046                0       ZYME          ZYME          N  \n",
       "8047                N          0          ZYNE          N  \n",
       "8048                N          0          ZYXI          N  \n",
       "\n",
       "[8049 rows x 12 columns]"
      ]
     },
     "execution_count": 7,
     "metadata": {},
     "output_type": "execute_result"
    }
   ],
   "source": [
    "Stock_Market.fillna(0)"
   ]
  },
  {
   "cell_type": "code",
   "execution_count": 8,
   "id": "c7dfe5e8",
   "metadata": {},
   "outputs": [],
   "source": [
    "Stock_Market = Stock_Market.fillna(0)"
   ]
  },
  {
   "cell_type": "code",
   "execution_count": 9,
   "id": "49ad6f09",
   "metadata": {
    "scrolled": true
   },
   "outputs": [
    {
     "data": {
      "text/html": [
       "<div>\n",
       "<style scoped>\n",
       "    .dataframe tbody tr th:only-of-type {\n",
       "        vertical-align: middle;\n",
       "    }\n",
       "\n",
       "    .dataframe tbody tr th {\n",
       "        vertical-align: top;\n",
       "    }\n",
       "\n",
       "    .dataframe thead th {\n",
       "        text-align: right;\n",
       "    }\n",
       "</style>\n",
       "<table border=\"1\" class=\"dataframe\">\n",
       "  <thead>\n",
       "    <tr style=\"text-align: right;\">\n",
       "      <th></th>\n",
       "      <th>Nasdaq Traded</th>\n",
       "      <th>Symbol</th>\n",
       "      <th>Security Name</th>\n",
       "      <th>Listing Exchange</th>\n",
       "      <th>Market Category</th>\n",
       "      <th>ETF</th>\n",
       "      <th>Round Lot Size</th>\n",
       "      <th>Test Issue</th>\n",
       "      <th>Financial Status</th>\n",
       "      <th>CQS Symbol</th>\n",
       "      <th>NASDAQ Symbol</th>\n",
       "      <th>NextShares</th>\n",
       "    </tr>\n",
       "  </thead>\n",
       "  <tbody>\n",
       "    <tr>\n",
       "      <th>0</th>\n",
       "      <td>Y</td>\n",
       "      <td>A</td>\n",
       "      <td>Agilent Technologies, Inc. Common Stock</td>\n",
       "      <td>N</td>\n",
       "      <td></td>\n",
       "      <td>N</td>\n",
       "      <td>100.0</td>\n",
       "      <td>N</td>\n",
       "      <td>0</td>\n",
       "      <td>A</td>\n",
       "      <td>A</td>\n",
       "      <td>N</td>\n",
       "    </tr>\n",
       "    <tr>\n",
       "      <th>1</th>\n",
       "      <td>Y</td>\n",
       "      <td>AA</td>\n",
       "      <td>Alcoa Corporation Common Stock</td>\n",
       "      <td>N</td>\n",
       "      <td></td>\n",
       "      <td>N</td>\n",
       "      <td>100.0</td>\n",
       "      <td>N</td>\n",
       "      <td>0</td>\n",
       "      <td>AA</td>\n",
       "      <td>AA</td>\n",
       "      <td>N</td>\n",
       "    </tr>\n",
       "    <tr>\n",
       "      <th>2</th>\n",
       "      <td>Y</td>\n",
       "      <td>AAAU</td>\n",
       "      <td>Perth Mint Physical Gold ETF</td>\n",
       "      <td>P</td>\n",
       "      <td></td>\n",
       "      <td>Y</td>\n",
       "      <td>100.0</td>\n",
       "      <td>N</td>\n",
       "      <td>0</td>\n",
       "      <td>AAAU</td>\n",
       "      <td>AAAU</td>\n",
       "      <td>N</td>\n",
       "    </tr>\n",
       "    <tr>\n",
       "      <th>3</th>\n",
       "      <td>Y</td>\n",
       "      <td>AACG</td>\n",
       "      <td>ATA Creativity Global - American Depositary Sh...</td>\n",
       "      <td>Q</td>\n",
       "      <td>G</td>\n",
       "      <td>N</td>\n",
       "      <td>100.0</td>\n",
       "      <td>N</td>\n",
       "      <td>N</td>\n",
       "      <td>0</td>\n",
       "      <td>AACG</td>\n",
       "      <td>N</td>\n",
       "    </tr>\n",
       "    <tr>\n",
       "      <th>4</th>\n",
       "      <td>Y</td>\n",
       "      <td>AADR</td>\n",
       "      <td>AdvisorShares Dorsey Wright ADR ETF</td>\n",
       "      <td>P</td>\n",
       "      <td></td>\n",
       "      <td>Y</td>\n",
       "      <td>100.0</td>\n",
       "      <td>N</td>\n",
       "      <td>0</td>\n",
       "      <td>AADR</td>\n",
       "      <td>AADR</td>\n",
       "      <td>N</td>\n",
       "    </tr>\n",
       "    <tr>\n",
       "      <th>...</th>\n",
       "      <td>...</td>\n",
       "      <td>...</td>\n",
       "      <td>...</td>\n",
       "      <td>...</td>\n",
       "      <td>...</td>\n",
       "      <td>...</td>\n",
       "      <td>...</td>\n",
       "      <td>...</td>\n",
       "      <td>...</td>\n",
       "      <td>...</td>\n",
       "      <td>...</td>\n",
       "      <td>...</td>\n",
       "    </tr>\n",
       "    <tr>\n",
       "      <th>8044</th>\n",
       "      <td>Y</td>\n",
       "      <td>ZUO</td>\n",
       "      <td>Zuora, Inc. Class A Common Stock</td>\n",
       "      <td>N</td>\n",
       "      <td></td>\n",
       "      <td>N</td>\n",
       "      <td>100.0</td>\n",
       "      <td>N</td>\n",
       "      <td>0</td>\n",
       "      <td>ZUO</td>\n",
       "      <td>ZUO</td>\n",
       "      <td>N</td>\n",
       "    </tr>\n",
       "    <tr>\n",
       "      <th>8045</th>\n",
       "      <td>Y</td>\n",
       "      <td>ZVO</td>\n",
       "      <td>Zovio Inc. - Common Stock</td>\n",
       "      <td>Q</td>\n",
       "      <td>Q</td>\n",
       "      <td>N</td>\n",
       "      <td>100.0</td>\n",
       "      <td>N</td>\n",
       "      <td>N</td>\n",
       "      <td>0</td>\n",
       "      <td>ZVO</td>\n",
       "      <td>N</td>\n",
       "    </tr>\n",
       "    <tr>\n",
       "      <th>8046</th>\n",
       "      <td>Y</td>\n",
       "      <td>ZYME</td>\n",
       "      <td>Zymeworks Inc. Common Shares</td>\n",
       "      <td>N</td>\n",
       "      <td></td>\n",
       "      <td>N</td>\n",
       "      <td>100.0</td>\n",
       "      <td>N</td>\n",
       "      <td>0</td>\n",
       "      <td>ZYME</td>\n",
       "      <td>ZYME</td>\n",
       "      <td>N</td>\n",
       "    </tr>\n",
       "    <tr>\n",
       "      <th>8047</th>\n",
       "      <td>Y</td>\n",
       "      <td>ZYNE</td>\n",
       "      <td>Zynerba Pharmaceuticals, Inc. - Common Stock</td>\n",
       "      <td>Q</td>\n",
       "      <td>G</td>\n",
       "      <td>N</td>\n",
       "      <td>100.0</td>\n",
       "      <td>N</td>\n",
       "      <td>N</td>\n",
       "      <td>0</td>\n",
       "      <td>ZYNE</td>\n",
       "      <td>N</td>\n",
       "    </tr>\n",
       "    <tr>\n",
       "      <th>8048</th>\n",
       "      <td>Y</td>\n",
       "      <td>ZYXI</td>\n",
       "      <td>Zynex, Inc. - Common Stock</td>\n",
       "      <td>Q</td>\n",
       "      <td>S</td>\n",
       "      <td>N</td>\n",
       "      <td>100.0</td>\n",
       "      <td>N</td>\n",
       "      <td>N</td>\n",
       "      <td>0</td>\n",
       "      <td>ZYXI</td>\n",
       "      <td>N</td>\n",
       "    </tr>\n",
       "  </tbody>\n",
       "</table>\n",
       "<p>8049 rows × 12 columns</p>\n",
       "</div>"
      ],
      "text/plain": [
       "     Nasdaq Traded Symbol                                      Security Name  \\\n",
       "0                Y      A            Agilent Technologies, Inc. Common Stock   \n",
       "1                Y     AA                    Alcoa Corporation Common Stock    \n",
       "2                Y   AAAU                       Perth Mint Physical Gold ETF   \n",
       "3                Y   AACG  ATA Creativity Global - American Depositary Sh...   \n",
       "4                Y   AADR                AdvisorShares Dorsey Wright ADR ETF   \n",
       "...            ...    ...                                                ...   \n",
       "8044             Y    ZUO                   Zuora, Inc. Class A Common Stock   \n",
       "8045             Y    ZVO                          Zovio Inc. - Common Stock   \n",
       "8046             Y   ZYME                       Zymeworks Inc. Common Shares   \n",
       "8047             Y   ZYNE       Zynerba Pharmaceuticals, Inc. - Common Stock   \n",
       "8048             Y   ZYXI                         Zynex, Inc. - Common Stock   \n",
       "\n",
       "     Listing Exchange Market Category ETF  Round Lot Size Test Issue  \\\n",
       "0                   N                   N           100.0          N   \n",
       "1                   N                   N           100.0          N   \n",
       "2                   P                   Y           100.0          N   \n",
       "3                   Q               G   N           100.0          N   \n",
       "4                   P                   Y           100.0          N   \n",
       "...               ...             ...  ..             ...        ...   \n",
       "8044                N                   N           100.0          N   \n",
       "8045                Q               Q   N           100.0          N   \n",
       "8046                N                   N           100.0          N   \n",
       "8047                Q               G   N           100.0          N   \n",
       "8048                Q               S   N           100.0          N   \n",
       "\n",
       "     Financial Status CQS Symbol NASDAQ Symbol NextShares  \n",
       "0                   0          A             A          N  \n",
       "1                   0         AA            AA          N  \n",
       "2                   0       AAAU          AAAU          N  \n",
       "3                   N          0          AACG          N  \n",
       "4                   0       AADR          AADR          N  \n",
       "...               ...        ...           ...        ...  \n",
       "8044                0        ZUO           ZUO          N  \n",
       "8045                N          0           ZVO          N  \n",
       "8046                0       ZYME          ZYME          N  \n",
       "8047                N          0          ZYNE          N  \n",
       "8048                N          0          ZYXI          N  \n",
       "\n",
       "[8049 rows x 12 columns]"
      ]
     },
     "execution_count": 9,
     "metadata": {},
     "output_type": "execute_result"
    }
   ],
   "source": [
    "Stock_Market"
   ]
  },
  {
   "cell_type": "code",
   "execution_count": 3,
   "id": "9d69ea13",
   "metadata": {},
   "outputs": [],
   "source": [
    "## CHANGE COLUMN HEADERS TO UPPER"
   ]
  },
  {
   "cell_type": "code",
   "execution_count": 10,
   "id": "6329aeb2",
   "metadata": {},
   "outputs": [
    {
     "data": {
      "text/plain": [
       "Index(['NASDAQ TRADED', 'SYMBOL', 'SECURITY NAME', 'LISTING EXCHANGE',\n",
       "       'MARKET CATEGORY', 'ETF', 'ROUND LOT SIZE', 'TEST ISSUE',\n",
       "       'FINANCIAL STATUS', 'CQS SYMBOL', 'NASDAQ SYMBOL', 'NEXTSHARES'],\n",
       "      dtype='object')"
      ]
     },
     "execution_count": 10,
     "metadata": {},
     "output_type": "execute_result"
    }
   ],
   "source": [
    "Stock_Market.columns.str.upper()"
   ]
  },
  {
   "cell_type": "code",
   "execution_count": 11,
   "id": "91f0a52e",
   "metadata": {},
   "outputs": [],
   "source": [
    "Stock_Market.columns = Stock_Market.columns.str.upper()"
   ]
  },
  {
   "cell_type": "code",
   "execution_count": 4,
   "id": "336cdbd4",
   "metadata": {},
   "outputs": [],
   "source": [
    "## CHECK FOR DATA TYPES"
   ]
  },
  {
   "cell_type": "code",
   "execution_count": 12,
   "id": "ba6d2669",
   "metadata": {
    "scrolled": false
   },
   "outputs": [
    {
     "data": {
      "text/plain": [
       "NASDAQ TRADED        object\n",
       "SYMBOL               object\n",
       "SECURITY NAME        object\n",
       "LISTING EXCHANGE     object\n",
       "MARKET CATEGORY      object\n",
       "ETF                  object\n",
       "ROUND LOT SIZE      float64\n",
       "TEST ISSUE           object\n",
       "FINANCIAL STATUS     object\n",
       "CQS SYMBOL           object\n",
       "NASDAQ SYMBOL        object\n",
       "NEXTSHARES           object\n",
       "dtype: object"
      ]
     },
     "execution_count": 12,
     "metadata": {},
     "output_type": "execute_result"
    }
   ],
   "source": [
    "Stock_Market.dtypes"
   ]
  },
  {
   "cell_type": "code",
   "execution_count": 5,
   "id": "590316ba",
   "metadata": {},
   "outputs": [],
   "source": [
    "## CHANGE DATA TYPE FROM OBJECT TO INTEGER"
   ]
  },
  {
   "cell_type": "code",
   "execution_count": 13,
   "id": "d543a2e4",
   "metadata": {},
   "outputs": [],
   "source": [
    "Stock_Market['NASDAQ TRADED'] = Stock_Market['NASDAQ TRADED'].astype(\"category\").cat.codes"
   ]
  },
  {
   "cell_type": "code",
   "execution_count": 14,
   "id": "af44c290",
   "metadata": {},
   "outputs": [
    {
     "data": {
      "text/plain": [
       "NASDAQ TRADED          int8\n",
       "SYMBOL               object\n",
       "SECURITY NAME        object\n",
       "LISTING EXCHANGE     object\n",
       "MARKET CATEGORY      object\n",
       "ETF                  object\n",
       "ROUND LOT SIZE      float64\n",
       "TEST ISSUE           object\n",
       "FINANCIAL STATUS     object\n",
       "CQS SYMBOL           object\n",
       "NASDAQ SYMBOL        object\n",
       "NEXTSHARES           object\n",
       "dtype: object"
      ]
     },
     "execution_count": 14,
     "metadata": {},
     "output_type": "execute_result"
    }
   ],
   "source": [
    "Stock_Market.dtypes"
   ]
  },
  {
   "cell_type": "code",
   "execution_count": 15,
   "id": "01f0fef1",
   "metadata": {},
   "outputs": [],
   "source": [
    "Stock_Market['SYMBOL'] = Stock_Market['SYMBOL'].astype(\"category\").cat.codes"
   ]
  },
  {
   "cell_type": "code",
   "execution_count": 16,
   "id": "7fca3f38",
   "metadata": {},
   "outputs": [],
   "source": [
    "Stock_Market['SECURITY NAME'] = Stock_Market['SECURITY NAME'].astype(\"category\").cat.codes"
   ]
  },
  {
   "cell_type": "code",
   "execution_count": 17,
   "id": "2ca8efe2",
   "metadata": {},
   "outputs": [],
   "source": [
    "Stock_Market['LISTING EXCHANGE'] = Stock_Market['LISTING EXCHANGE'].astype(\"category\").cat.codes"
   ]
  },
  {
   "cell_type": "code",
   "execution_count": 18,
   "id": "c71bed83",
   "metadata": {},
   "outputs": [],
   "source": [
    "Stock_Market['MARKET CATEGORY'] = Stock_Market['MARKET CATEGORY'].astype(\"category\").cat.codes"
   ]
  },
  {
   "cell_type": "code",
   "execution_count": 19,
   "id": "37d9bb64",
   "metadata": {},
   "outputs": [],
   "source": [
    "Stock_Market['ETF'] = Stock_Market['ETF'].astype(\"category\").cat.codes"
   ]
  },
  {
   "cell_type": "code",
   "execution_count": 20,
   "id": "5aba9680",
   "metadata": {},
   "outputs": [],
   "source": [
    "Stock_Market['TEST ISSUE'] = Stock_Market['TEST ISSUE'].astype(\"category\").cat.codes"
   ]
  },
  {
   "cell_type": "code",
   "execution_count": 21,
   "id": "ca15996a",
   "metadata": {},
   "outputs": [],
   "source": [
    "Stock_Market['FINANCIAL STATUS'] = Stock_Market['FINANCIAL STATUS'].astype(\"category\").cat.codes"
   ]
  },
  {
   "cell_type": "code",
   "execution_count": 22,
   "id": "fb620e97",
   "metadata": {},
   "outputs": [],
   "source": [
    "Stock_Market['CQS SYMBOL'] = Stock_Market['CQS SYMBOL'].astype(\"category\").cat.codes"
   ]
  },
  {
   "cell_type": "code",
   "execution_count": 23,
   "id": "c02d2521",
   "metadata": {},
   "outputs": [],
   "source": [
    "Stock_Market['NASDAQ SYMBOL'] = Stock_Market['NASDAQ SYMBOL'].astype(\"category\").cat.codes"
   ]
  },
  {
   "cell_type": "code",
   "execution_count": 24,
   "id": "fcec68a0",
   "metadata": {},
   "outputs": [],
   "source": [
    "Stock_Market['NEXTSHARES'] = Stock_Market['NEXTSHARES'].astype(\"category\").cat.codes"
   ]
  },
  {
   "cell_type": "code",
   "execution_count": 25,
   "id": "33190ebb",
   "metadata": {},
   "outputs": [
    {
     "data": {
      "text/plain": [
       "NASDAQ TRADED          int8\n",
       "SYMBOL                int16\n",
       "SECURITY NAME         int16\n",
       "LISTING EXCHANGE       int8\n",
       "MARKET CATEGORY        int8\n",
       "ETF                    int8\n",
       "ROUND LOT SIZE      float64\n",
       "TEST ISSUE             int8\n",
       "FINANCIAL STATUS       int8\n",
       "CQS SYMBOL            int16\n",
       "NASDAQ SYMBOL         int16\n",
       "NEXTSHARES             int8\n",
       "dtype: object"
      ]
     },
     "execution_count": 25,
     "metadata": {},
     "output_type": "execute_result"
    }
   ],
   "source": [
    "Stock_Market.dtypes"
   ]
  },
  {
   "cell_type": "code",
   "execution_count": 26,
   "id": "57ab8474",
   "metadata": {},
   "outputs": [
    {
     "data": {
      "text/html": [
       "<div>\n",
       "<style scoped>\n",
       "    .dataframe tbody tr th:only-of-type {\n",
       "        vertical-align: middle;\n",
       "    }\n",
       "\n",
       "    .dataframe tbody tr th {\n",
       "        vertical-align: top;\n",
       "    }\n",
       "\n",
       "    .dataframe thead th {\n",
       "        text-align: right;\n",
       "    }\n",
       "</style>\n",
       "<table border=\"1\" class=\"dataframe\">\n",
       "  <thead>\n",
       "    <tr style=\"text-align: right;\">\n",
       "      <th></th>\n",
       "      <th>NASDAQ TRADED</th>\n",
       "      <th>SYMBOL</th>\n",
       "      <th>SECURITY NAME</th>\n",
       "      <th>LISTING EXCHANGE</th>\n",
       "      <th>MARKET CATEGORY</th>\n",
       "      <th>ETF</th>\n",
       "      <th>ROUND LOT SIZE</th>\n",
       "      <th>TEST ISSUE</th>\n",
       "      <th>FINANCIAL STATUS</th>\n",
       "      <th>CQS SYMBOL</th>\n",
       "      <th>NASDAQ SYMBOL</th>\n",
       "      <th>NEXTSHARES</th>\n",
       "    </tr>\n",
       "  </thead>\n",
       "  <tbody>\n",
       "    <tr>\n",
       "      <th>0</th>\n",
       "      <td>0</td>\n",
       "      <td>0</td>\n",
       "      <td>242</td>\n",
       "      <td>1</td>\n",
       "      <td>0</td>\n",
       "      <td>0</td>\n",
       "      <td>100.0</td>\n",
       "      <td>0</td>\n",
       "      <td>0</td>\n",
       "      <td>1</td>\n",
       "      <td>0</td>\n",
       "      <td>0</td>\n",
       "    </tr>\n",
       "    <tr>\n",
       "      <th>1</th>\n",
       "      <td>0</td>\n",
       "      <td>1</td>\n",
       "      <td>280</td>\n",
       "      <td>1</td>\n",
       "      <td>0</td>\n",
       "      <td>0</td>\n",
       "      <td>100.0</td>\n",
       "      <td>0</td>\n",
       "      <td>0</td>\n",
       "      <td>2</td>\n",
       "      <td>1</td>\n",
       "      <td>0</td>\n",
       "    </tr>\n",
       "    <tr>\n",
       "      <th>2</th>\n",
       "      <td>0</td>\n",
       "      <td>2</td>\n",
       "      <td>5260</td>\n",
       "      <td>2</td>\n",
       "      <td>0</td>\n",
       "      <td>1</td>\n",
       "      <td>100.0</td>\n",
       "      <td>0</td>\n",
       "      <td>0</td>\n",
       "      <td>3</td>\n",
       "      <td>2</td>\n",
       "      <td>0</td>\n",
       "    </tr>\n",
       "    <tr>\n",
       "      <th>3</th>\n",
       "      <td>0</td>\n",
       "      <td>3</td>\n",
       "      <td>120</td>\n",
       "      <td>3</td>\n",
       "      <td>1</td>\n",
       "      <td>0</td>\n",
       "      <td>100.0</td>\n",
       "      <td>0</td>\n",
       "      <td>4</td>\n",
       "      <td>0</td>\n",
       "      <td>3</td>\n",
       "      <td>0</td>\n",
       "    </tr>\n",
       "    <tr>\n",
       "      <th>4</th>\n",
       "      <td>0</td>\n",
       "      <td>4</td>\n",
       "      <td>205</td>\n",
       "      <td>2</td>\n",
       "      <td>0</td>\n",
       "      <td>1</td>\n",
       "      <td>100.0</td>\n",
       "      <td>0</td>\n",
       "      <td>0</td>\n",
       "      <td>4</td>\n",
       "      <td>4</td>\n",
       "      <td>0</td>\n",
       "    </tr>\n",
       "    <tr>\n",
       "      <th>...</th>\n",
       "      <td>...</td>\n",
       "      <td>...</td>\n",
       "      <td>...</td>\n",
       "      <td>...</td>\n",
       "      <td>...</td>\n",
       "      <td>...</td>\n",
       "      <td>...</td>\n",
       "      <td>...</td>\n",
       "      <td>...</td>\n",
       "      <td>...</td>\n",
       "      <td>...</td>\n",
       "      <td>...</td>\n",
       "    </tr>\n",
       "    <tr>\n",
       "      <th>8044</th>\n",
       "      <td>0</td>\n",
       "      <td>8044</td>\n",
       "      <td>7606</td>\n",
       "      <td>1</td>\n",
       "      <td>0</td>\n",
       "      <td>0</td>\n",
       "      <td>100.0</td>\n",
       "      <td>0</td>\n",
       "      <td>0</td>\n",
       "      <td>4665</td>\n",
       "      <td>8044</td>\n",
       "      <td>0</td>\n",
       "    </tr>\n",
       "    <tr>\n",
       "      <th>8045</th>\n",
       "      <td>0</td>\n",
       "      <td>8045</td>\n",
       "      <td>7603</td>\n",
       "      <td>3</td>\n",
       "      <td>2</td>\n",
       "      <td>0</td>\n",
       "      <td>100.0</td>\n",
       "      <td>0</td>\n",
       "      <td>4</td>\n",
       "      <td>0</td>\n",
       "      <td>8045</td>\n",
       "      <td>0</td>\n",
       "    </tr>\n",
       "    <tr>\n",
       "      <th>8046</th>\n",
       "      <td>0</td>\n",
       "      <td>8046</td>\n",
       "      <td>7607</td>\n",
       "      <td>1</td>\n",
       "      <td>0</td>\n",
       "      <td>0</td>\n",
       "      <td>100.0</td>\n",
       "      <td>0</td>\n",
       "      <td>0</td>\n",
       "      <td>4666</td>\n",
       "      <td>8046</td>\n",
       "      <td>0</td>\n",
       "    </tr>\n",
       "    <tr>\n",
       "      <th>8047</th>\n",
       "      <td>0</td>\n",
       "      <td>8047</td>\n",
       "      <td>7608</td>\n",
       "      <td>3</td>\n",
       "      <td>1</td>\n",
       "      <td>0</td>\n",
       "      <td>100.0</td>\n",
       "      <td>0</td>\n",
       "      <td>4</td>\n",
       "      <td>0</td>\n",
       "      <td>8047</td>\n",
       "      <td>0</td>\n",
       "    </tr>\n",
       "    <tr>\n",
       "      <th>8048</th>\n",
       "      <td>0</td>\n",
       "      <td>8048</td>\n",
       "      <td>7609</td>\n",
       "      <td>3</td>\n",
       "      <td>3</td>\n",
       "      <td>0</td>\n",
       "      <td>100.0</td>\n",
       "      <td>0</td>\n",
       "      <td>4</td>\n",
       "      <td>0</td>\n",
       "      <td>8048</td>\n",
       "      <td>0</td>\n",
       "    </tr>\n",
       "  </tbody>\n",
       "</table>\n",
       "<p>8049 rows × 12 columns</p>\n",
       "</div>"
      ],
      "text/plain": [
       "      NASDAQ TRADED  SYMBOL  SECURITY NAME  LISTING EXCHANGE  MARKET CATEGORY  \\\n",
       "0                 0       0            242                 1                0   \n",
       "1                 0       1            280                 1                0   \n",
       "2                 0       2           5260                 2                0   \n",
       "3                 0       3            120                 3                1   \n",
       "4                 0       4            205                 2                0   \n",
       "...             ...     ...            ...               ...              ...   \n",
       "8044              0    8044           7606                 1                0   \n",
       "8045              0    8045           7603                 3                2   \n",
       "8046              0    8046           7607                 1                0   \n",
       "8047              0    8047           7608                 3                1   \n",
       "8048              0    8048           7609                 3                3   \n",
       "\n",
       "      ETF  ROUND LOT SIZE  TEST ISSUE  FINANCIAL STATUS  CQS SYMBOL  \\\n",
       "0       0           100.0           0                 0           1   \n",
       "1       0           100.0           0                 0           2   \n",
       "2       1           100.0           0                 0           3   \n",
       "3       0           100.0           0                 4           0   \n",
       "4       1           100.0           0                 0           4   \n",
       "...   ...             ...         ...               ...         ...   \n",
       "8044    0           100.0           0                 0        4665   \n",
       "8045    0           100.0           0                 4           0   \n",
       "8046    0           100.0           0                 0        4666   \n",
       "8047    0           100.0           0                 4           0   \n",
       "8048    0           100.0           0                 4           0   \n",
       "\n",
       "      NASDAQ SYMBOL  NEXTSHARES  \n",
       "0                 0           0  \n",
       "1                 1           0  \n",
       "2                 2           0  \n",
       "3                 3           0  \n",
       "4                 4           0  \n",
       "...             ...         ...  \n",
       "8044           8044           0  \n",
       "8045           8045           0  \n",
       "8046           8046           0  \n",
       "8047           8047           0  \n",
       "8048           8048           0  \n",
       "\n",
       "[8049 rows x 12 columns]"
      ]
     },
     "execution_count": 26,
     "metadata": {},
     "output_type": "execute_result"
    }
   ],
   "source": [
    "Stock_Market.select_dtypes(\"number\")"
   ]
  },
  {
   "cell_type": "code",
   "execution_count": 27,
   "id": "527baabc",
   "metadata": {},
   "outputs": [
    {
     "data": {
      "text/plain": [
       "array([0, 1], dtype=int8)"
      ]
     },
     "execution_count": 27,
     "metadata": {},
     "output_type": "execute_result"
    }
   ],
   "source": [
    "Stock_Market['NEXTSHARES'].unique()"
   ]
  },
  {
   "cell_type": "code",
   "execution_count": 28,
   "id": "6dd32a0f",
   "metadata": {
    "scrolled": true
   },
   "outputs": [
    {
     "data": {
      "text/plain": [
       "NASDAQ TRADED            NaN\n",
       "SYMBOL             -0.013898\n",
       "SECURITY NAME      -0.016155\n",
       "LISTING EXCHANGE    0.016634\n",
       "MARKET CATEGORY     0.002674\n",
       "ETF                -0.011713\n",
       "ROUND LOT SIZE      0.000481\n",
       "TEST ISSUE               NaN\n",
       "FINANCIAL STATUS    0.023795\n",
       "CQS SYMBOL         -0.016937\n",
       "NASDAQ SYMBOL      -0.013898\n",
       "NEXTSHARES          1.000000\n",
       "Name: NEXTSHARES, dtype: float64"
      ]
     },
     "execution_count": 28,
     "metadata": {},
     "output_type": "execute_result"
    }
   ],
   "source": [
    "Stock_Market.corr()[\"NEXTSHARES\"]"
   ]
  },
  {
   "cell_type": "markdown",
   "id": "16579abc",
   "metadata": {},
   "source": [
    "## SEPERATE THE COLUMNS"
   ]
  },
  {
   "cell_type": "code",
   "execution_count": 29,
   "id": "b68da3b6",
   "metadata": {},
   "outputs": [],
   "source": [
    "x = Stock_Market[['NASDAQ TRADED', 'SYMBOL', 'SECURITY NAME', 'LISTING EXCHANGE',\n",
    "       'MARKET CATEGORY', 'ETF', 'ROUND LOT SIZE', 'TEST ISSUE',\n",
    "       'FINANCIAL STATUS', 'CQS SYMBOL', 'NASDAQ SYMBOL']]"
   ]
  },
  {
   "cell_type": "code",
   "execution_count": 30,
   "id": "9b3da97c",
   "metadata": {},
   "outputs": [],
   "source": [
    "y = Stock_Market['NEXTSHARES']"
   ]
  },
  {
   "cell_type": "code",
   "execution_count": 31,
   "id": "b10279c3",
   "metadata": {},
   "outputs": [
    {
     "data": {
      "text/html": [
       "<div>\n",
       "<style scoped>\n",
       "    .dataframe tbody tr th:only-of-type {\n",
       "        vertical-align: middle;\n",
       "    }\n",
       "\n",
       "    .dataframe tbody tr th {\n",
       "        vertical-align: top;\n",
       "    }\n",
       "\n",
       "    .dataframe thead th {\n",
       "        text-align: right;\n",
       "    }\n",
       "</style>\n",
       "<table border=\"1\" class=\"dataframe\">\n",
       "  <thead>\n",
       "    <tr style=\"text-align: right;\">\n",
       "      <th></th>\n",
       "      <th>NASDAQ TRADED</th>\n",
       "      <th>SYMBOL</th>\n",
       "      <th>SECURITY NAME</th>\n",
       "      <th>LISTING EXCHANGE</th>\n",
       "      <th>MARKET CATEGORY</th>\n",
       "      <th>ETF</th>\n",
       "      <th>ROUND LOT SIZE</th>\n",
       "      <th>TEST ISSUE</th>\n",
       "      <th>FINANCIAL STATUS</th>\n",
       "      <th>CQS SYMBOL</th>\n",
       "      <th>NASDAQ SYMBOL</th>\n",
       "    </tr>\n",
       "  </thead>\n",
       "  <tbody>\n",
       "    <tr>\n",
       "      <th>0</th>\n",
       "      <td>0</td>\n",
       "      <td>0</td>\n",
       "      <td>242</td>\n",
       "      <td>1</td>\n",
       "      <td>0</td>\n",
       "      <td>0</td>\n",
       "      <td>100.0</td>\n",
       "      <td>0</td>\n",
       "      <td>0</td>\n",
       "      <td>1</td>\n",
       "      <td>0</td>\n",
       "    </tr>\n",
       "    <tr>\n",
       "      <th>1</th>\n",
       "      <td>0</td>\n",
       "      <td>1</td>\n",
       "      <td>280</td>\n",
       "      <td>1</td>\n",
       "      <td>0</td>\n",
       "      <td>0</td>\n",
       "      <td>100.0</td>\n",
       "      <td>0</td>\n",
       "      <td>0</td>\n",
       "      <td>2</td>\n",
       "      <td>1</td>\n",
       "    </tr>\n",
       "    <tr>\n",
       "      <th>2</th>\n",
       "      <td>0</td>\n",
       "      <td>2</td>\n",
       "      <td>5260</td>\n",
       "      <td>2</td>\n",
       "      <td>0</td>\n",
       "      <td>1</td>\n",
       "      <td>100.0</td>\n",
       "      <td>0</td>\n",
       "      <td>0</td>\n",
       "      <td>3</td>\n",
       "      <td>2</td>\n",
       "    </tr>\n",
       "    <tr>\n",
       "      <th>3</th>\n",
       "      <td>0</td>\n",
       "      <td>3</td>\n",
       "      <td>120</td>\n",
       "      <td>3</td>\n",
       "      <td>1</td>\n",
       "      <td>0</td>\n",
       "      <td>100.0</td>\n",
       "      <td>0</td>\n",
       "      <td>4</td>\n",
       "      <td>0</td>\n",
       "      <td>3</td>\n",
       "    </tr>\n",
       "    <tr>\n",
       "      <th>4</th>\n",
       "      <td>0</td>\n",
       "      <td>4</td>\n",
       "      <td>205</td>\n",
       "      <td>2</td>\n",
       "      <td>0</td>\n",
       "      <td>1</td>\n",
       "      <td>100.0</td>\n",
       "      <td>0</td>\n",
       "      <td>0</td>\n",
       "      <td>4</td>\n",
       "      <td>4</td>\n",
       "    </tr>\n",
       "    <tr>\n",
       "      <th>...</th>\n",
       "      <td>...</td>\n",
       "      <td>...</td>\n",
       "      <td>...</td>\n",
       "      <td>...</td>\n",
       "      <td>...</td>\n",
       "      <td>...</td>\n",
       "      <td>...</td>\n",
       "      <td>...</td>\n",
       "      <td>...</td>\n",
       "      <td>...</td>\n",
       "      <td>...</td>\n",
       "    </tr>\n",
       "    <tr>\n",
       "      <th>8044</th>\n",
       "      <td>0</td>\n",
       "      <td>8044</td>\n",
       "      <td>7606</td>\n",
       "      <td>1</td>\n",
       "      <td>0</td>\n",
       "      <td>0</td>\n",
       "      <td>100.0</td>\n",
       "      <td>0</td>\n",
       "      <td>0</td>\n",
       "      <td>4665</td>\n",
       "      <td>8044</td>\n",
       "    </tr>\n",
       "    <tr>\n",
       "      <th>8045</th>\n",
       "      <td>0</td>\n",
       "      <td>8045</td>\n",
       "      <td>7603</td>\n",
       "      <td>3</td>\n",
       "      <td>2</td>\n",
       "      <td>0</td>\n",
       "      <td>100.0</td>\n",
       "      <td>0</td>\n",
       "      <td>4</td>\n",
       "      <td>0</td>\n",
       "      <td>8045</td>\n",
       "    </tr>\n",
       "    <tr>\n",
       "      <th>8046</th>\n",
       "      <td>0</td>\n",
       "      <td>8046</td>\n",
       "      <td>7607</td>\n",
       "      <td>1</td>\n",
       "      <td>0</td>\n",
       "      <td>0</td>\n",
       "      <td>100.0</td>\n",
       "      <td>0</td>\n",
       "      <td>0</td>\n",
       "      <td>4666</td>\n",
       "      <td>8046</td>\n",
       "    </tr>\n",
       "    <tr>\n",
       "      <th>8047</th>\n",
       "      <td>0</td>\n",
       "      <td>8047</td>\n",
       "      <td>7608</td>\n",
       "      <td>3</td>\n",
       "      <td>1</td>\n",
       "      <td>0</td>\n",
       "      <td>100.0</td>\n",
       "      <td>0</td>\n",
       "      <td>4</td>\n",
       "      <td>0</td>\n",
       "      <td>8047</td>\n",
       "    </tr>\n",
       "    <tr>\n",
       "      <th>8048</th>\n",
       "      <td>0</td>\n",
       "      <td>8048</td>\n",
       "      <td>7609</td>\n",
       "      <td>3</td>\n",
       "      <td>3</td>\n",
       "      <td>0</td>\n",
       "      <td>100.0</td>\n",
       "      <td>0</td>\n",
       "      <td>4</td>\n",
       "      <td>0</td>\n",
       "      <td>8048</td>\n",
       "    </tr>\n",
       "  </tbody>\n",
       "</table>\n",
       "<p>8049 rows × 11 columns</p>\n",
       "</div>"
      ],
      "text/plain": [
       "      NASDAQ TRADED  SYMBOL  SECURITY NAME  LISTING EXCHANGE  MARKET CATEGORY  \\\n",
       "0                 0       0            242                 1                0   \n",
       "1                 0       1            280                 1                0   \n",
       "2                 0       2           5260                 2                0   \n",
       "3                 0       3            120                 3                1   \n",
       "4                 0       4            205                 2                0   \n",
       "...             ...     ...            ...               ...              ...   \n",
       "8044              0    8044           7606                 1                0   \n",
       "8045              0    8045           7603                 3                2   \n",
       "8046              0    8046           7607                 1                0   \n",
       "8047              0    8047           7608                 3                1   \n",
       "8048              0    8048           7609                 3                3   \n",
       "\n",
       "      ETF  ROUND LOT SIZE  TEST ISSUE  FINANCIAL STATUS  CQS SYMBOL  \\\n",
       "0       0           100.0           0                 0           1   \n",
       "1       0           100.0           0                 0           2   \n",
       "2       1           100.0           0                 0           3   \n",
       "3       0           100.0           0                 4           0   \n",
       "4       1           100.0           0                 0           4   \n",
       "...   ...             ...         ...               ...         ...   \n",
       "8044    0           100.0           0                 0        4665   \n",
       "8045    0           100.0           0                 4           0   \n",
       "8046    0           100.0           0                 0        4666   \n",
       "8047    0           100.0           0                 4           0   \n",
       "8048    0           100.0           0                 4           0   \n",
       "\n",
       "      NASDAQ SYMBOL  \n",
       "0                 0  \n",
       "1                 1  \n",
       "2                 2  \n",
       "3                 3  \n",
       "4                 4  \n",
       "...             ...  \n",
       "8044           8044  \n",
       "8045           8045  \n",
       "8046           8046  \n",
       "8047           8047  \n",
       "8048           8048  \n",
       "\n",
       "[8049 rows x 11 columns]"
      ]
     },
     "execution_count": 31,
     "metadata": {},
     "output_type": "execute_result"
    }
   ],
   "source": [
    "x"
   ]
  },
  {
   "cell_type": "code",
   "execution_count": 32,
   "id": "63fbd5d9",
   "metadata": {
    "scrolled": false
   },
   "outputs": [
    {
     "data": {
      "text/plain": [
       "0       0\n",
       "1       0\n",
       "2       0\n",
       "3       0\n",
       "4       0\n",
       "       ..\n",
       "8044    0\n",
       "8045    0\n",
       "8046    0\n",
       "8047    0\n",
       "8048    0\n",
       "Name: NEXTSHARES, Length: 8049, dtype: int8"
      ]
     },
     "execution_count": 32,
     "metadata": {},
     "output_type": "execute_result"
    }
   ],
   "source": [
    "y"
   ]
  },
  {
   "cell_type": "markdown",
   "id": "9e551085",
   "metadata": {},
   "source": [
    "## CALL THE ALGORITHM"
   ]
  },
  {
   "cell_type": "code",
   "execution_count": 33,
   "id": "f6680226",
   "metadata": {},
   "outputs": [],
   "source": [
    "from sklearn.model_selection import train_test_split"
   ]
  },
  {
   "cell_type": "code",
   "execution_count": 34,
   "id": "380fc231",
   "metadata": {},
   "outputs": [],
   "source": [
    "x_train, x_test, y_train, y_test = train_test_split(x,y, random_state=0)"
   ]
  },
  {
   "cell_type": "markdown",
   "id": "5a586fa1",
   "metadata": {},
   "source": [
    "## TRAIN THE MODEL USING THE ALGORITHM"
   ]
  },
  {
   "cell_type": "code",
   "execution_count": 38,
   "id": "3b63affa",
   "metadata": {},
   "outputs": [],
   "source": [
    "from sklearn.preprocessing import StandardScaler"
   ]
  },
  {
   "cell_type": "code",
   "execution_count": 39,
   "id": "83623578",
   "metadata": {},
   "outputs": [],
   "source": [
    "x_train = StandardScaler().fit_transform(x_train)"
   ]
  },
  {
   "cell_type": "code",
   "execution_count": 40,
   "id": "6dfee128",
   "metadata": {},
   "outputs": [],
   "source": [
    "x_test = StandardScaler().fit_transform(x_test)"
   ]
  },
  {
   "cell_type": "code",
   "execution_count": 41,
   "id": "c0a15e4b",
   "metadata": {},
   "outputs": [
    {
     "data": {
      "text/plain": [
       "array([[ 0.        ,  0.56180759,  0.43047855, ..., -0.83028935,\n",
       "         1.14383675,  0.56180759],\n",
       "       [ 0.        ,  0.94514723, -0.46176326, ..., -0.83028935,\n",
       "         1.47357203,  0.94514723],\n",
       "       [ 0.        , -1.61629743,  0.59336855, ..., -0.83028935,\n",
       "        -0.78579749, -1.61629743],\n",
       "       ...,\n",
       "       [ 0.        , -0.04186678, -0.08268943, ..., -0.83028935,\n",
       "         0.61248819, -0.04186678],\n",
       "       [ 0.        , -1.38826169, -1.38323071, ...,  1.22995405,\n",
       "        -0.87294646, -1.38826169],\n",
       "       [ 0.        ,  0.01417953, -0.05819146, ...,  1.22995405,\n",
       "        -0.87294646,  0.01417953]])"
      ]
     },
     "execution_count": 41,
     "metadata": {},
     "output_type": "execute_result"
    }
   ],
   "source": [
    "x_test"
   ]
  },
  {
   "cell_type": "code",
   "execution_count": 42,
   "id": "a99f3bda",
   "metadata": {},
   "outputs": [
    {
     "data": {
      "text/plain": [
       "7242    0\n",
       "6204    0\n",
       "2212    0\n",
       "2641    0\n",
       "6140    0\n",
       "       ..\n",
       "4931    0\n",
       "3264    0\n",
       "1653    0\n",
       "2607    0\n",
       "2732    0\n",
       "Name: NEXTSHARES, Length: 6036, dtype: int8"
      ]
     },
     "execution_count": 42,
     "metadata": {},
     "output_type": "execute_result"
    }
   ],
   "source": [
    "y_train"
   ]
  },
  {
   "cell_type": "code",
   "execution_count": 43,
   "id": "0aeec8f0",
   "metadata": {},
   "outputs": [],
   "source": [
    "from sklearn.linear_model import LogisticRegression"
   ]
  },
  {
   "cell_type": "code",
   "execution_count": 44,
   "id": "7d456fd9",
   "metadata": {},
   "outputs": [
    {
     "data": {
      "text/html": [
       "<style>#sk-container-id-1 {color: black;}#sk-container-id-1 pre{padding: 0;}#sk-container-id-1 div.sk-toggleable {background-color: white;}#sk-container-id-1 label.sk-toggleable__label {cursor: pointer;display: block;width: 100%;margin-bottom: 0;padding: 0.3em;box-sizing: border-box;text-align: center;}#sk-container-id-1 label.sk-toggleable__label-arrow:before {content: \"▸\";float: left;margin-right: 0.25em;color: #696969;}#sk-container-id-1 label.sk-toggleable__label-arrow:hover:before {color: black;}#sk-container-id-1 div.sk-estimator:hover label.sk-toggleable__label-arrow:before {color: black;}#sk-container-id-1 div.sk-toggleable__content {max-height: 0;max-width: 0;overflow: hidden;text-align: left;background-color: #f0f8ff;}#sk-container-id-1 div.sk-toggleable__content pre {margin: 0.2em;color: black;border-radius: 0.25em;background-color: #f0f8ff;}#sk-container-id-1 input.sk-toggleable__control:checked~div.sk-toggleable__content {max-height: 200px;max-width: 100%;overflow: auto;}#sk-container-id-1 input.sk-toggleable__control:checked~label.sk-toggleable__label-arrow:before {content: \"▾\";}#sk-container-id-1 div.sk-estimator input.sk-toggleable__control:checked~label.sk-toggleable__label {background-color: #d4ebff;}#sk-container-id-1 div.sk-label input.sk-toggleable__control:checked~label.sk-toggleable__label {background-color: #d4ebff;}#sk-container-id-1 input.sk-hidden--visually {border: 0;clip: rect(1px 1px 1px 1px);clip: rect(1px, 1px, 1px, 1px);height: 1px;margin: -1px;overflow: hidden;padding: 0;position: absolute;width: 1px;}#sk-container-id-1 div.sk-estimator {font-family: monospace;background-color: #f0f8ff;border: 1px dotted black;border-radius: 0.25em;box-sizing: border-box;margin-bottom: 0.5em;}#sk-container-id-1 div.sk-estimator:hover {background-color: #d4ebff;}#sk-container-id-1 div.sk-parallel-item::after {content: \"\";width: 100%;border-bottom: 1px solid gray;flex-grow: 1;}#sk-container-id-1 div.sk-label:hover label.sk-toggleable__label {background-color: #d4ebff;}#sk-container-id-1 div.sk-serial::before {content: \"\";position: absolute;border-left: 1px solid gray;box-sizing: border-box;top: 0;bottom: 0;left: 50%;z-index: 0;}#sk-container-id-1 div.sk-serial {display: flex;flex-direction: column;align-items: center;background-color: white;padding-right: 0.2em;padding-left: 0.2em;position: relative;}#sk-container-id-1 div.sk-item {position: relative;z-index: 1;}#sk-container-id-1 div.sk-parallel {display: flex;align-items: stretch;justify-content: center;background-color: white;position: relative;}#sk-container-id-1 div.sk-item::before, #sk-container-id-1 div.sk-parallel-item::before {content: \"\";position: absolute;border-left: 1px solid gray;box-sizing: border-box;top: 0;bottom: 0;left: 50%;z-index: -1;}#sk-container-id-1 div.sk-parallel-item {display: flex;flex-direction: column;z-index: 1;position: relative;background-color: white;}#sk-container-id-1 div.sk-parallel-item:first-child::after {align-self: flex-end;width: 50%;}#sk-container-id-1 div.sk-parallel-item:last-child::after {align-self: flex-start;width: 50%;}#sk-container-id-1 div.sk-parallel-item:only-child::after {width: 0;}#sk-container-id-1 div.sk-dashed-wrapped {border: 1px dashed gray;margin: 0 0.4em 0.5em 0.4em;box-sizing: border-box;padding-bottom: 0.4em;background-color: white;}#sk-container-id-1 div.sk-label label {font-family: monospace;font-weight: bold;display: inline-block;line-height: 1.2em;}#sk-container-id-1 div.sk-label-container {text-align: center;}#sk-container-id-1 div.sk-container {/* jupyter's `normalize.less` sets `[hidden] { display: none; }` but bootstrap.min.css set `[hidden] { display: none !important; }` so we also need the `!important` here to be able to override the default hidden behavior on the sphinx rendered scikit-learn.org. See: https://github.com/scikit-learn/scikit-learn/issues/21755 */display: inline-block !important;position: relative;}#sk-container-id-1 div.sk-text-repr-fallback {display: none;}</style><div id=\"sk-container-id-1\" class=\"sk-top-container\"><div class=\"sk-text-repr-fallback\"><pre>LogisticRegression(max_iter=1000)</pre><b>In a Jupyter environment, please rerun this cell to show the HTML representation or trust the notebook. <br />On GitHub, the HTML representation is unable to render, please try loading this page with nbviewer.org.</b></div><div class=\"sk-container\" hidden><div class=\"sk-item\"><div class=\"sk-estimator sk-toggleable\"><input class=\"sk-toggleable__control sk-hidden--visually\" id=\"sk-estimator-id-1\" type=\"checkbox\" checked><label for=\"sk-estimator-id-1\" class=\"sk-toggleable__label sk-toggleable__label-arrow\">LogisticRegression</label><div class=\"sk-toggleable__content\"><pre>LogisticRegression(max_iter=1000)</pre></div></div></div></div></div>"
      ],
      "text/plain": [
       "LogisticRegression(max_iter=1000)"
      ]
     },
     "execution_count": 44,
     "metadata": {},
     "output_type": "execute_result"
    }
   ],
   "source": [
    "LogisticRegression(max_iter=1000).fit(x_train,y_train)"
   ]
  },
  {
   "cell_type": "code",
   "execution_count": 45,
   "id": "2164bd7d",
   "metadata": {},
   "outputs": [],
   "source": [
    "model = LogisticRegression(max_iter=1000).fit(x_train,y_train)"
   ]
  },
  {
   "cell_type": "markdown",
   "id": "188106f0",
   "metadata": {},
   "source": [
    "## PREDICT ON X VALUES"
   ]
  },
  {
   "cell_type": "code",
   "execution_count": 46,
   "id": "d2be23b4",
   "metadata": {},
   "outputs": [],
   "source": [
    "prediction = model.predict(x_test)"
   ]
  },
  {
   "cell_type": "code",
   "execution_count": 47,
   "id": "9cb1661c",
   "metadata": {},
   "outputs": [
    {
     "data": {
      "text/plain": [
       "array([0, 0, 0, ..., 0, 0, 0], dtype=int8)"
      ]
     },
     "execution_count": 47,
     "metadata": {},
     "output_type": "execute_result"
    }
   ],
   "source": [
    "prediction"
   ]
  },
  {
   "cell_type": "code",
   "execution_count": 48,
   "id": "1e90b9c8",
   "metadata": {
    "scrolled": true
   },
   "outputs": [
    {
     "data": {
      "text/plain": [
       "5364    0\n",
       "6260    0\n",
       "273     0\n",
       "4915    0\n",
       "6580    0\n",
       "       ..\n",
       "1712    0\n",
       "7172    0\n",
       "3953    0\n",
       "806     0\n",
       "4084    0\n",
       "Name: NEXTSHARES, Length: 2013, dtype: int8"
      ]
     },
     "execution_count": 48,
     "metadata": {},
     "output_type": "execute_result"
    }
   ],
   "source": [
    "y_test"
   ]
  },
  {
   "cell_type": "markdown",
   "id": "5aa3cd97",
   "metadata": {},
   "source": [
    "## CHECK THE ACCURACY"
   ]
  },
  {
   "cell_type": "code",
   "execution_count": 49,
   "id": "0611281c",
   "metadata": {},
   "outputs": [],
   "source": [
    "from sklearn.metrics import accuracy_score"
   ]
  },
  {
   "cell_type": "code",
   "execution_count": 50,
   "id": "95a9d2d4",
   "metadata": {},
   "outputs": [
    {
     "data": {
      "text/plain": [
       "99.95032290114257"
      ]
     },
     "execution_count": 50,
     "metadata": {},
     "output_type": "execute_result"
    }
   ],
   "source": [
    "accuracy_score(y_test, prediction)*100"
   ]
  },
  {
   "cell_type": "code",
   "execution_count": null,
   "id": "ae808d9d",
   "metadata": {},
   "outputs": [],
   "source": []
  }
 ],
 "metadata": {
  "kernelspec": {
   "display_name": "Python 3 (ipykernel)",
   "language": "python",
   "name": "python3"
  },
  "language_info": {
   "codemirror_mode": {
    "name": "ipython",
    "version": 3
   },
   "file_extension": ".py",
   "mimetype": "text/x-python",
   "name": "python",
   "nbconvert_exporter": "python",
   "pygments_lexer": "ipython3",
   "version": "3.11.5"
  }
 },
 "nbformat": 4,
 "nbformat_minor": 5
}
